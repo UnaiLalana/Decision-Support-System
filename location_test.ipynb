{
 "cells": [
  {
   "cell_type": "code",
   "id": "e03cec12",
   "metadata": {
    "ExecuteTime": {
     "end_time": "2025-05-19T14:40:47.878875Z",
     "start_time": "2025-05-19T14:40:47.868329Z"
    }
   },
   "source": [
    "port_coords = {\n",
    "    \"Baltic Sea\": (58.0, 20.0),\n",
    "    \"West Mediterranean\": (40.5, 4.5),\n",
    "    \"Central Mediterranean\": (34.0, 17.0),\n",
    "    \"Adriatic Sea\": (43.0, 15.5),\n",
    "    \"Great North Sea\": (58.0, 2.0),\n",
    "    \"Celtic Sea\": (54.0, -12.0),\n",
    "    \"Iberian Cost\": (41.0, -11.0),\n",
    "    \"Aegian Sea\": (38.0, 25.0),\n",
    "    \"Black Sea\": (43, 33.0),\n",
    "}\n"
   ],
   "outputs": [],
   "execution_count": 5
  },
  {
   "cell_type": "code",
   "id": "d77057d8",
   "metadata": {
    "ExecuteTime": {
     "end_time": "2025-05-19T14:49:58.293783Z",
     "start_time": "2025-05-19T14:49:58.078258Z"
    }
   },
   "source": [
    "import numpy as np\n",
    "import requests\n",
    "from datetime import datetime, timedelta\n",
    "\n",
    "def get_historical_weather_open_meteo(region):\n",
    "    \"\"\"\n",
    "    Retrieves historical weather data (strongest wind and lowest temperature)\n",
    "    for the last year for a given region using Open-Meteo archive API.\n",
    "\n",
    "    Args:\n",
    "        region (str): The name of the region (key in port_coords).\n",
    "\n",
    "    Returns:\n",
    "        dict or str: A dictionary with historical weather data (region, period,\n",
    "                     strongest wind, lowest temperature) or an error message string.\n",
    "    \"\"\"\n",
    "    if region not in port_coords:\n",
    "        return f\"Invalid Region: {region}\"\n",
    "\n",
    "    lat, lon = port_coords[region]\n",
    "\n",
    "    # Calculate the dates for the last year\n",
    "    end_date = datetime.now() - timedelta(days=1) # Up to yesterday\n",
    "    start_date = end_date - timedelta(days=365)  # One year before yesterday\n",
    "\n",
    "    # Format dates as YYYY-MM-DD strings\n",
    "    start_date_str = start_date.strftime('%Y-%m-%d')\n",
    "    end_date_str = end_date.strftime('%Y-%m-%d')\n",
    "\n",
    "    # Endpoint for historical data (archive)\n",
    "    url = (\n",
    "        f\"https://archive-api.open-meteo.com/v1/era5\"\n",
    "        f\"?latitude={lat}&longitude={lon}\"\n",
    "        f\"&daily=temperature_2m_min,wind_speed_10m_max\"\n",
    "        f\"&start_date={start_date_str}\"\n",
    "        f\"&end_date={end_date_str}\"\n",
    "        f\"&timezone=auto\"\n",
    "    )\n",
    "\n",
    "    try:\n",
    "        response = requests.get(url)\n",
    "        # Raise an exception for bad status codes (4xx or 5xx)\n",
    "        response.raise_for_status()\n",
    "\n",
    "    except requests.exceptions.RequestException as e:\n",
    "        return f\"Error contacting API: {e}\"\n",
    "\n",
    "    data = response.json()\n",
    "\n",
    "    # Check if 'daily' data is present and not empty\n",
    "    if 'daily' not in data or not data['daily']:\n",
    "         return f\"No historical daily data found for region {region} in the specified period.\"\n",
    "\n",
    "    # Find the minimum temperature and maximum wind speed over the year\n",
    "    # Use .get() with a default value to handle missing keys gracefully\n",
    "    daily_temps_min = data['daily'].get('temperature_2m_min', [])\n",
    "    daily_winds_max = data['daily'].get('wind_speed_10m_max', [])\n",
    "\n",
    "    # Handle cases where data lists might be empty even if 'daily' exists\n",
    "    if not daily_temps_min or not daily_winds_max:\n",
    "         return f\"Could not find valid min temperature or max wind speed data for region {region}.\"\n",
    "\n",
    "    # Calculate the average of the daily minimum temperatures and daily maximum wind speeds\n",
    "    average_min_temp_C = np.mean(daily_temps_min)\n",
    "    average_max_wind_speed_kmh = np.mean(daily_winds_max)\n",
    "\n",
    "\n",
    "    return {\n",
    "        \"region\": region,\n",
    "        \"period\": f\"{start_date_str} to {end_date_str}\",\n",
    "        \"average_max_wind_kmh\": round(average_max_wind_speed_kmh, 1),\n",
    "        \"average_min_temp_C\": round(average_min_temp_C, 1)\n",
    "    }\n",
    "\n",
    "\n",
    "# Example usage:\n",
    "print(get_historical_weather_open_meteo(\"Aegian Sea\"))"
   ],
   "outputs": [
    {
     "name": "stdout",
     "output_type": "stream",
     "text": [
      "{'region': 'Aegian Sea', 'period': '2024-05-18 to 2025-05-18', 'average_max_wind_kmh': 34.4, 'average_min_temp_C': 18.0}\n"
     ]
    }
   ],
   "execution_count": 9
  }
 ],
 "metadata": {
  "kernelspec": {
   "display_name": "py311ml",
   "language": "python",
   "name": "python3"
  },
  "language_info": {
   "codemirror_mode": {
    "name": "ipython",
    "version": 3
   },
   "file_extension": ".py",
   "mimetype": "text/x-python",
   "name": "python",
   "nbconvert_exporter": "python",
   "pygments_lexer": "ipython3",
   "version": "3.11.8"
  }
 },
 "nbformat": 4,
 "nbformat_minor": 5
}
