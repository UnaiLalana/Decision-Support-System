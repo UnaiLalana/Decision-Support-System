{
 "cells": [
  {
   "cell_type": "code",
   "execution_count": 1,
   "id": "e03cec12",
   "metadata": {},
   "outputs": [],
   "source": [
    "port_coords = {\n",
    "    \"Baltic Sea\": (58.0, 20.0),\n",
    "    \"West Mediterranean\": (40.5, 4.5),\n",
    "    \"Central Mediterranean\": (37.0, 15.0),\n",
    "    \"Adriatic Sea\": (43.0, 15.5),\n",
    "    \"Great North Sea\": (55.0, 4.0),\n",
    "    \"Celtic Sea\": (50.0, -8.0),\n",
    "    \"Iberian Cost\": (42.0, -5.0),\n",
    "    \"Aegian Sea\": (38.0, 25.0),\n",
    "    \"Black Sea\": (44.5, 33.0),\n",
    "}\n"
   ]
  },
  {
   "cell_type": "code",
   "execution_count": 4,
   "id": "d77057d8",
   "metadata": {},
   "outputs": [
    {
     "name": "stdout",
     "output_type": "stream",
     "text": [
      "{'región': 'Adriatic Sea', 'velocidad_viento_kmh': 5.0, 'temperatura_mínima_°C': 18.1}\n"
     ]
    }
   ],
   "source": [
    "import requests\n",
    "\n",
    "def get_weather_open_meteo(region):\n",
    "    if region not in port_coords:\n",
    "        return f\"Región no válida: {region}\"\n",
    "\n",
    "    lat, lon = port_coords[region]\n",
    "\n",
    "    url = (\n",
    "        f\"https://api.open-meteo.com/v1/forecast\"\n",
    "        f\"?latitude={lat}&longitude={lon}\"\n",
    "        f\"&current=temperature_2m,wind_speed_10m,wind_direction_10m\"\n",
    "        f\"&daily=temperature_2m_min\"\n",
    "        f\"&timezone=auto\"\n",
    "    )\n",
    "\n",
    "    response = requests.get(url)\n",
    "    if response.status_code != 200:\n",
    "        return f\"Error al consultar Open-Meteo: {response.status_code}\"\n",
    "\n",
    "    data = response.json()\n",
    "\n",
    "    wind_speed = data['current']['wind_speed_10m']\n",
    "    temp_min = data['daily']['temperature_2m_min'][0]\n",
    "\n",
    "\n",
    "    return {\n",
    "        \"región\": region,\n",
    "        \"velocidad_viento_kmh\": round(wind_speed, 1),\n",
    "        \"temperatura_mínima_°C\": round(temp_min, 1)\n",
    "    }\n",
    "\n",
    "# Ejemplo de uso\n",
    "region = \"Adriatic Sea\"\n",
    "info = get_weather_open_meteo(region)\n",
    "print(info)\n"
   ]
  }
 ],
 "metadata": {
  "kernelspec": {
   "display_name": "py311ml",
   "language": "python",
   "name": "python3"
  },
  "language_info": {
   "codemirror_mode": {
    "name": "ipython",
    "version": 3
   },
   "file_extension": ".py",
   "mimetype": "text/x-python",
   "name": "python",
   "nbconvert_exporter": "python",
   "pygments_lexer": "ipython3",
   "version": "3.11.8"
  }
 },
 "nbformat": 4,
 "nbformat_minor": 5
}
